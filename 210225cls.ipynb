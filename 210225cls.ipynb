{
 "cells": [
  {
   "cell_type": "code",
   "execution_count": null,
   "id": "a11daafe-730a-4bd9-8546-f56e97d00252",
   "metadata": {},
   "outputs": [],
   "source": [
    "#presizen=TP/Tp+FP=currect/total prediction\n",
    "#recall=TP/Tp+FN\n",
    "#Accurary=TP+TN/TP+FP+TN+FN, Retrival\n",
    "#F1=2PR/P+R\n",
    "#SMOTE\n",
    "# FN is the best for madical system\n",
    "#SVR and SVC "
   ]
  }
 ],
 "metadata": {
  "kernelspec": {
   "display_name": "Python 3 (ipykernel)",
   "language": "python",
   "name": "python3"
  },
  "language_info": {
   "codemirror_mode": {
    "name": "ipython",
    "version": 3
   },
   "file_extension": ".py",
   "mimetype": "text/x-python",
   "name": "python",
   "nbconvert_exporter": "python",
   "pygments_lexer": "ipython3",
   "version": "3.12.7"
  }
 },
 "nbformat": 4,
 "nbformat_minor": 5
}
