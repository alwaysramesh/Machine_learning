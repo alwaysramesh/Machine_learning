{
 "cells": [
  {
   "cell_type": "code",
   "execution_count": 1,
   "id": "ccbe8540-125a-4e04-ba03-2846b41f21d8",
   "metadata": {},
   "outputs": [],
   "source": [
    "import pandas as pd"
   ]
  },
  {
   "cell_type": "code",
   "execution_count": 2,
   "id": "75e948bd-0b72-401e-98b7-c5410959e0af",
   "metadata": {},
   "outputs": [],
   "source": [
    "dataset=pd.read_csv(\"C://Users//ALWAYSRAMESH//Downloads//WELFake_Dataset.csv\")"
   ]
  },
  {
   "cell_type": "code",
   "execution_count": 3,
   "id": "064b22dd-8513-4793-8117-cb6b473b3ef9",
   "metadata": {},
   "outputs": [],
   "source": [
    "dataset.dropna(inplace=True)"
   ]
  },
  {
   "cell_type": "code",
   "execution_count": 4,
   "id": "307b76b9-345a-4fd6-9474-3f266da2697d",
   "metadata": {},
   "outputs": [
    {
     "data": {
      "text/plain": [
       "<bound method DataFrame.info of        Unnamed: 0                                              title  \\\n",
       "0               0  LAW ENFORCEMENT ON HIGH ALERT Following Threat...   \n",
       "2               2  UNBELIEVABLE! OBAMA’S ATTORNEY GENERAL SAYS MO...   \n",
       "3               3  Bobby Jindal, raised Hindu, uses story of Chri...   \n",
       "4               4  SATAN 2: Russia unvelis an image of its terrif...   \n",
       "5               5  About Time! Christian Group Sues Amazon and SP...   \n",
       "...           ...                                                ...   \n",
       "72129       72129  Russians steal research on Trump in hack of U....   \n",
       "72130       72130   WATCH: Giuliani Demands That Democrats Apolog...   \n",
       "72131       72131  Migrants Refuse To Leave Train At Refugee Camp...   \n",
       "72132       72132  Trump tussle gives unpopular Mexican leader mu...   \n",
       "72133       72133  Goldman Sachs Endorses Hillary Clinton For Pre...   \n",
       "\n",
       "                                                    text  label  \n",
       "0      No comment is expected from Barack Obama Membe...      1  \n",
       "2       Now, most of the demonstrators gathered last ...      1  \n",
       "3      A dozen politically active pastors came here f...      0  \n",
       "4      The RS-28 Sarmat missile, dubbed Satan 2, will...      1  \n",
       "5      All we can say on this one is it s about time ...      1  \n",
       "...                                                  ...    ...  \n",
       "72129  WASHINGTON (Reuters) - Hackers believed to be ...      0  \n",
       "72130  You know, because in fantasyland Republicans n...      1  \n",
       "72131  Migrants Refuse To Leave Train At Refugee Camp...      0  \n",
       "72132  MEXICO CITY (Reuters) - Donald Trump’s combati...      0  \n",
       "72133  Goldman Sachs Endorses Hillary Clinton For Pre...      1  \n",
       "\n",
       "[71537 rows x 4 columns]>"
      ]
     },
     "execution_count": 4,
     "metadata": {},
     "output_type": "execute_result"
    }
   ],
   "source": [
    "dataset.info"
   ]
  },
  {
   "cell_type": "code",
   "execution_count": 5,
   "id": "1c300521-3a34-476f-bd2b-34031a78d940",
   "metadata": {},
   "outputs": [
    {
     "data": {
      "text/html": [
       "<div>\n",
       "<style scoped>\n",
       "    .dataframe tbody tr th:only-of-type {\n",
       "        vertical-align: middle;\n",
       "    }\n",
       "\n",
       "    .dataframe tbody tr th {\n",
       "        vertical-align: top;\n",
       "    }\n",
       "\n",
       "    .dataframe thead th {\n",
       "        text-align: right;\n",
       "    }\n",
       "</style>\n",
       "<table border=\"1\" class=\"dataframe\">\n",
       "  <thead>\n",
       "    <tr style=\"text-align: right;\">\n",
       "      <th></th>\n",
       "      <th>Unnamed: 0</th>\n",
       "      <th>title</th>\n",
       "      <th>text</th>\n",
       "      <th>label</th>\n",
       "    </tr>\n",
       "  </thead>\n",
       "  <tbody>\n",
       "    <tr>\n",
       "      <th>0</th>\n",
       "      <td>0</td>\n",
       "      <td>LAW ENFORCEMENT ON HIGH ALERT Following Threat...</td>\n",
       "      <td>No comment is expected from Barack Obama Membe...</td>\n",
       "      <td>1</td>\n",
       "    </tr>\n",
       "    <tr>\n",
       "      <th>2</th>\n",
       "      <td>2</td>\n",
       "      <td>UNBELIEVABLE! OBAMA’S ATTORNEY GENERAL SAYS MO...</td>\n",
       "      <td>Now, most of the demonstrators gathered last ...</td>\n",
       "      <td>1</td>\n",
       "    </tr>\n",
       "    <tr>\n",
       "      <th>3</th>\n",
       "      <td>3</td>\n",
       "      <td>Bobby Jindal, raised Hindu, uses story of Chri...</td>\n",
       "      <td>A dozen politically active pastors came here f...</td>\n",
       "      <td>0</td>\n",
       "    </tr>\n",
       "    <tr>\n",
       "      <th>4</th>\n",
       "      <td>4</td>\n",
       "      <td>SATAN 2: Russia unvelis an image of its terrif...</td>\n",
       "      <td>The RS-28 Sarmat missile, dubbed Satan 2, will...</td>\n",
       "      <td>1</td>\n",
       "    </tr>\n",
       "    <tr>\n",
       "      <th>5</th>\n",
       "      <td>5</td>\n",
       "      <td>About Time! Christian Group Sues Amazon and SP...</td>\n",
       "      <td>All we can say on this one is it s about time ...</td>\n",
       "      <td>1</td>\n",
       "    </tr>\n",
       "    <tr>\n",
       "      <th>6</th>\n",
       "      <td>6</td>\n",
       "      <td>DR BEN CARSON TARGETED BY THE IRS: “I never ha...</td>\n",
       "      <td>DR. BEN CARSON TELLS THE STORY OF WHAT HAPPENE...</td>\n",
       "      <td>1</td>\n",
       "    </tr>\n",
       "    <tr>\n",
       "      <th>7</th>\n",
       "      <td>7</td>\n",
       "      <td>HOUSE INTEL CHAIR On Trump-Russia Fake Story: ...</td>\n",
       "      <td></td>\n",
       "      <td>1</td>\n",
       "    </tr>\n",
       "    <tr>\n",
       "      <th>8</th>\n",
       "      <td>8</td>\n",
       "      <td>Sports Bar Owner Bans NFL Games…Will Show Only...</td>\n",
       "      <td>The owner of the Ringling Bar, located south o...</td>\n",
       "      <td>1</td>\n",
       "    </tr>\n",
       "    <tr>\n",
       "      <th>9</th>\n",
       "      <td>9</td>\n",
       "      <td>Latest Pipeline Leak Underscores Dangers Of Da...</td>\n",
       "      <td>FILE – In this Sept. 15, 2005 file photo, the ...</td>\n",
       "      <td>1</td>\n",
       "    </tr>\n",
       "    <tr>\n",
       "      <th>10</th>\n",
       "      <td>10</td>\n",
       "      <td>GOP Senator Just Smacked Down The Most Puncha...</td>\n",
       "      <td>The most punchable Alt-Right Nazi on the inter...</td>\n",
       "      <td>1</td>\n",
       "    </tr>\n",
       "    <tr>\n",
       "      <th>11</th>\n",
       "      <td>11</td>\n",
       "      <td>May Brexit offer would hurt, cost EU citizens ...</td>\n",
       "      <td>BRUSSELS (Reuters) - British Prime Minister Th...</td>\n",
       "      <td>0</td>\n",
       "    </tr>\n",
       "    <tr>\n",
       "      <th>12</th>\n",
       "      <td>12</td>\n",
       "      <td>Schumer calls on Trump to appoint official to ...</td>\n",
       "      <td>WASHINGTON (Reuters) - Charles Schumer, the to...</td>\n",
       "      <td>0</td>\n",
       "    </tr>\n",
       "    <tr>\n",
       "      <th>13</th>\n",
       "      <td>13</td>\n",
       "      <td>WATCH: HILARIOUS AD Calls Into Question Health...</td>\n",
       "      <td>After watching this telling video, you ll wond...</td>\n",
       "      <td>1</td>\n",
       "    </tr>\n",
       "    <tr>\n",
       "      <th>14</th>\n",
       "      <td>14</td>\n",
       "      <td>No Change Expected for ESPN Political Agenda D...</td>\n",
       "      <td>As more and more sports fans turn off ESPN to ...</td>\n",
       "      <td>0</td>\n",
       "    </tr>\n",
       "    <tr>\n",
       "      <th>15</th>\n",
       "      <td>15</td>\n",
       "      <td>Billionaire Odebrecht in Brazil scandal releas...</td>\n",
       "      <td>RIO DE JANEIRO/SAO PAULO (Reuters) - Billionai...</td>\n",
       "      <td>0</td>\n",
       "    </tr>\n",
       "    <tr>\n",
       "      <th>16</th>\n",
       "      <td>16</td>\n",
       "      <td>BRITISH WOMAN LOSES VIRGINITY To Asylum Seekin...</td>\n",
       "      <td>Europe is likely not going to be a top destina...</td>\n",
       "      <td>1</td>\n",
       "    </tr>\n",
       "    <tr>\n",
       "      <th>17</th>\n",
       "      <td>17</td>\n",
       "      <td>U.N. seeks humanitarian pause in Sanaa where s...</td>\n",
       "      <td>GENEVA (Reuters) - The United Nations called o...</td>\n",
       "      <td>0</td>\n",
       "    </tr>\n",
       "    <tr>\n",
       "      <th>18</th>\n",
       "      <td>18</td>\n",
       "      <td>MAJOR LIBERAL RAG RELUCTANTLY PUBLISHES Articl...</td>\n",
       "      <td>The Atlantic, a publication that wouldn t know...</td>\n",
       "      <td>1</td>\n",
       "    </tr>\n",
       "    <tr>\n",
       "      <th>19</th>\n",
       "      <td>19</td>\n",
       "      <td>Second judge says Clinton email setup may have...</td>\n",
       "      <td>NEW YORK (Reuters) - A second federal judge ha...</td>\n",
       "      <td>0</td>\n",
       "    </tr>\n",
       "    <tr>\n",
       "      <th>20</th>\n",
       "      <td>20</td>\n",
       "      <td>America gives Grand Piano to horse</td>\n",
       "      <td>Wednesday 9 November 2016 by Lucas Wilde Ameri...</td>\n",
       "      <td>1</td>\n",
       "    </tr>\n",
       "    <tr>\n",
       "      <th>21</th>\n",
       "      <td>21</td>\n",
       "      <td>Hillary’s crime family: End of days for the U.S.A</td>\n",
       "      <td>Hillary’s crime family: End of days for the U....</td>\n",
       "      <td>1</td>\n",
       "    </tr>\n",
       "    <tr>\n",
       "      <th>22</th>\n",
       "      <td>22</td>\n",
       "      <td>Sean Spicer Baffles Reporters, Claims Trump I...</td>\n",
       "      <td>On Tuesday, White House Propaganda Minister Se...</td>\n",
       "      <td>1</td>\n",
       "    </tr>\n",
       "    <tr>\n",
       "      <th>23</th>\n",
       "      <td>23</td>\n",
       "      <td>UNHOLY ALLIANCE: Hillary Clinton’s Saudi Spons...</td>\n",
       "      <td>21st Century Wire says Amid the tossing and t...</td>\n",
       "      <td>1</td>\n",
       "    </tr>\n",
       "    <tr>\n",
       "      <th>24</th>\n",
       "      <td>24</td>\n",
       "      <td>Even Trump’s Best Friend Joe Scarborough Can’...</td>\n",
       "      <td>Recently, Joe Scarborough has found himself th...</td>\n",
       "      <td>1</td>\n",
       "    </tr>\n",
       "    <tr>\n",
       "      <th>25</th>\n",
       "      <td>25</td>\n",
       "      <td>BOOM! Danish Government Considers Seizing Migr...</td>\n",
       "      <td>Is the European gravy train finally coming to ...</td>\n",
       "      <td>1</td>\n",
       "    </tr>\n",
       "    <tr>\n",
       "      <th>26</th>\n",
       "      <td>26</td>\n",
       "      <td>Supreme Court Won’t Hear Appeal From Texas on ...</td>\n",
       "      <td>WASHINGTON  —   The Supreme Court rejected on ...</td>\n",
       "      <td>0</td>\n",
       "    </tr>\n",
       "    <tr>\n",
       "      <th>27</th>\n",
       "      <td>27</td>\n",
       "      <td>Islamic State driven out of last stronghold in...</td>\n",
       "      <td>BAGHDAD (Reuters) - Iraqi forces announced on ...</td>\n",
       "      <td>0</td>\n",
       "    </tr>\n",
       "    <tr>\n",
       "      <th>28</th>\n",
       "      <td>28</td>\n",
       "      <td>Senators Propose Giving States Option to Keep ...</td>\n",
       "      <td>WASHINGTON  —   Several Republican senators on...</td>\n",
       "      <td>0</td>\n",
       "    </tr>\n",
       "    <tr>\n",
       "      <th>29</th>\n",
       "      <td>29</td>\n",
       "      <td>Do You Belong To An Extraterrestrial Lineage?</td>\n",
       "      <td>According to Sitchin’s interpretation of Mesop...</td>\n",
       "      <td>1</td>\n",
       "    </tr>\n",
       "    <tr>\n",
       "      <th>30</th>\n",
       "      <td>30</td>\n",
       "      <td>Zimbabwe's Mugabe appears in public for first ...</td>\n",
       "      <td>HARARE (Reuters) - Zimbabwe President Robert M...</td>\n",
       "      <td>0</td>\n",
       "    </tr>\n",
       "  </tbody>\n",
       "</table>\n",
       "</div>"
      ],
      "text/plain": [
       "    Unnamed: 0                                              title  \\\n",
       "0            0  LAW ENFORCEMENT ON HIGH ALERT Following Threat...   \n",
       "2            2  UNBELIEVABLE! OBAMA’S ATTORNEY GENERAL SAYS MO...   \n",
       "3            3  Bobby Jindal, raised Hindu, uses story of Chri...   \n",
       "4            4  SATAN 2: Russia unvelis an image of its terrif...   \n",
       "5            5  About Time! Christian Group Sues Amazon and SP...   \n",
       "6            6  DR BEN CARSON TARGETED BY THE IRS: “I never ha...   \n",
       "7            7  HOUSE INTEL CHAIR On Trump-Russia Fake Story: ...   \n",
       "8            8  Sports Bar Owner Bans NFL Games…Will Show Only...   \n",
       "9            9  Latest Pipeline Leak Underscores Dangers Of Da...   \n",
       "10          10   GOP Senator Just Smacked Down The Most Puncha...   \n",
       "11          11  May Brexit offer would hurt, cost EU citizens ...   \n",
       "12          12  Schumer calls on Trump to appoint official to ...   \n",
       "13          13  WATCH: HILARIOUS AD Calls Into Question Health...   \n",
       "14          14  No Change Expected for ESPN Political Agenda D...   \n",
       "15          15  Billionaire Odebrecht in Brazil scandal releas...   \n",
       "16          16  BRITISH WOMAN LOSES VIRGINITY To Asylum Seekin...   \n",
       "17          17  U.N. seeks humanitarian pause in Sanaa where s...   \n",
       "18          18  MAJOR LIBERAL RAG RELUCTANTLY PUBLISHES Articl...   \n",
       "19          19  Second judge says Clinton email setup may have...   \n",
       "20          20                 America gives Grand Piano to horse   \n",
       "21          21  Hillary’s crime family: End of days for the U.S.A   \n",
       "22          22   Sean Spicer Baffles Reporters, Claims Trump I...   \n",
       "23          23  UNHOLY ALLIANCE: Hillary Clinton’s Saudi Spons...   \n",
       "24          24   Even Trump’s Best Friend Joe Scarborough Can’...   \n",
       "25          25  BOOM! Danish Government Considers Seizing Migr...   \n",
       "26          26  Supreme Court Won’t Hear Appeal From Texas on ...   \n",
       "27          27  Islamic State driven out of last stronghold in...   \n",
       "28          28  Senators Propose Giving States Option to Keep ...   \n",
       "29          29      Do You Belong To An Extraterrestrial Lineage?   \n",
       "30          30  Zimbabwe's Mugabe appears in public for first ...   \n",
       "\n",
       "                                                 text  label  \n",
       "0   No comment is expected from Barack Obama Membe...      1  \n",
       "2    Now, most of the demonstrators gathered last ...      1  \n",
       "3   A dozen politically active pastors came here f...      0  \n",
       "4   The RS-28 Sarmat missile, dubbed Satan 2, will...      1  \n",
       "5   All we can say on this one is it s about time ...      1  \n",
       "6   DR. BEN CARSON TELLS THE STORY OF WHAT HAPPENE...      1  \n",
       "7                                                          1  \n",
       "8   The owner of the Ringling Bar, located south o...      1  \n",
       "9   FILE – In this Sept. 15, 2005 file photo, the ...      1  \n",
       "10  The most punchable Alt-Right Nazi on the inter...      1  \n",
       "11  BRUSSELS (Reuters) - British Prime Minister Th...      0  \n",
       "12  WASHINGTON (Reuters) - Charles Schumer, the to...      0  \n",
       "13  After watching this telling video, you ll wond...      1  \n",
       "14  As more and more sports fans turn off ESPN to ...      0  \n",
       "15  RIO DE JANEIRO/SAO PAULO (Reuters) - Billionai...      0  \n",
       "16  Europe is likely not going to be a top destina...      1  \n",
       "17  GENEVA (Reuters) - The United Nations called o...      0  \n",
       "18  The Atlantic, a publication that wouldn t know...      1  \n",
       "19  NEW YORK (Reuters) - A second federal judge ha...      0  \n",
       "20  Wednesday 9 November 2016 by Lucas Wilde Ameri...      1  \n",
       "21  Hillary’s crime family: End of days for the U....      1  \n",
       "22  On Tuesday, White House Propaganda Minister Se...      1  \n",
       "23   21st Century Wire says Amid the tossing and t...      1  \n",
       "24  Recently, Joe Scarborough has found himself th...      1  \n",
       "25  Is the European gravy train finally coming to ...      1  \n",
       "26  WASHINGTON  —   The Supreme Court rejected on ...      0  \n",
       "27  BAGHDAD (Reuters) - Iraqi forces announced on ...      0  \n",
       "28  WASHINGTON  —   Several Republican senators on...      0  \n",
       "29  According to Sitchin’s interpretation of Mesop...      1  \n",
       "30  HARARE (Reuters) - Zimbabwe President Robert M...      0  "
      ]
     },
     "execution_count": 5,
     "metadata": {},
     "output_type": "execute_result"
    }
   ],
   "source": [
    "dataset.head(30)"
   ]
  },
  {
   "cell_type": "code",
   "execution_count": 6,
   "id": "33490d13-bd27-44d4-ad2f-ec3c77c04a54",
   "metadata": {},
   "outputs": [],
   "source": [
    "from sklearn.feature_extraction.text import TfidfVectorizer"
   ]
  },
  {
   "cell_type": "code",
   "execution_count": 7,
   "id": "6acf4c11-04e2-482f-a625-b85ff28f77f7",
   "metadata": {},
   "outputs": [],
   "source": [
    "dataset = dataset.loc[:, ~dataset.columns.str.contains(\"Unnamed\")]"
   ]
  },
  {
   "cell_type": "code",
   "execution_count": 8,
   "id": "7091c6f6-f5ac-44e1-8fc2-5652861aed81",
   "metadata": {},
   "outputs": [],
   "source": [
    "x=dataset['title']"
   ]
  },
  {
   "cell_type": "code",
   "execution_count": 9,
   "id": "2ef3c408-8a9c-4c0d-bd5d-ca740eb07b4a",
   "metadata": {},
   "outputs": [
    {
     "data": {
      "text/plain": [
       "(71537,)"
      ]
     },
     "execution_count": 9,
     "metadata": {},
     "output_type": "execute_result"
    }
   ],
   "source": [
    "x.shape"
   ]
  },
  {
   "cell_type": "code",
   "execution_count": 10,
   "id": "d91ad8e4-5f20-465a-9095-284147f6fd10",
   "metadata": {},
   "outputs": [],
   "source": [
    "y=dataset['text']"
   ]
  },
  {
   "cell_type": "code",
   "execution_count": 11,
   "id": "a3a0102c-4c60-4ab2-9bb7-d6a5c1aaaddb",
   "metadata": {},
   "outputs": [
    {
     "data": {
      "text/plain": [
       "(71537,)"
      ]
     },
     "execution_count": 11,
     "metadata": {},
     "output_type": "execute_result"
    }
   ],
   "source": [
    "y.shape"
   ]
  },
  {
   "cell_type": "code",
   "execution_count": 12,
   "id": "bfd1786d-e101-4327-9c12-0916ac04ad53",
   "metadata": {},
   "outputs": [],
   "source": [
    "from sklearn.model_selection import train_test_split"
   ]
  },
  {
   "cell_type": "code",
   "execution_count": 13,
   "id": "dc61b4dd-8621-4444-a798-58d90339c064",
   "metadata": {},
   "outputs": [],
   "source": [
    "x_train,x_test,y_train,y_test=train_test_split(x,y,test_size=0.3,random_state=420)"
   ]
  },
  {
   "cell_type": "code",
   "execution_count": 14,
   "id": "d651b7de-ac77-4c6f-b74d-e111399e1e8a",
   "metadata": {},
   "outputs": [
    {
     "data": {
      "text/plain": [
       "title    0\n",
       "text     0\n",
       "label    0\n",
       "dtype: int64"
      ]
     },
     "execution_count": 14,
     "metadata": {},
     "output_type": "execute_result"
    }
   ],
   "source": [
    "dataset.isnull().sum()"
   ]
  },
  {
   "cell_type": "code",
   "execution_count": 15,
   "id": "54d233c2-5a5a-4e91-8053-e08062e17bc3",
   "metadata": {},
   "outputs": [],
   "source": [
    "x_train = [str(text) for text in x_train]  # Convert each element to a string\n",
    "x_test = [str(text) for text in x_test]"
   ]
  },
  {
   "cell_type": "code",
   "execution_count": 16,
   "id": "431cde25-51ab-46eb-a960-66e52abb153e",
   "metadata": {},
   "outputs": [],
   "source": [
    "tfidf=TfidfVectorizer(max_features=5000)\n",
    "x_train=tfidf.fit_transform(x_train)"
   ]
  },
  {
   "cell_type": "code",
   "execution_count": 17,
   "id": "3dc8d0ca-5f20-4d50-be76-20246a4ff942",
   "metadata": {},
   "outputs": [],
   "source": [
    "x_test=tfidf.transform(x_test)\n"
   ]
  },
  {
   "cell_type": "code",
   "execution_count": 18,
   "id": "b99f0e68-a87b-47b1-9bb4-3cdbb3d9db26",
   "metadata": {},
   "outputs": [],
   "source": [
    "from sklearn.naive_bayes import MultinomialNB"
   ]
  },
  {
   "cell_type": "code",
   "execution_count": 19,
   "id": "0656353a-0388-4439-93cf-c92a90dfe5b7",
   "metadata": {},
   "outputs": [],
   "source": [
    "import numpy as np"
   ]
  },
  {
   "cell_type": "code",
   "execution_count": 20,
   "id": "1dff69c6-f858-419e-a429-f5d4186cde08",
   "metadata": {},
   "outputs": [],
   "source": [
    "#x_train = np.array(x_train, dtype='float32')  # Reduce data type size\n",
    "#y_train = np.array(y_train, dtype='int32')"
   ]
  },
  {
   "cell_type": "code",
   "execution_count": 21,
   "id": "375cf818-0af8-47dd-921a-5e7050eac7fa",
   "metadata": {},
   "outputs": [
    {
     "name": "stdout",
     "output_type": "stream",
     "text": [
      "X shape: (50075, 5000)\n",
      "y shape: (50075,)\n"
     ]
    }
   ],
   "source": [
    "print(\"X shape:\", x_train.shape)\n",
    "print(\"y shape:\", y_train.shape)\n"
   ]
  },
  {
   "cell_type": "code",
   "execution_count": null,
   "id": "a426bc0b-81e5-423f-a6f2-feefd3e34968",
   "metadata": {},
   "outputs": [],
   "source": []
  },
  {
   "cell_type": "code",
   "execution_count": null,
   "id": "91fc33c1-9016-45df-bdcc-c152f7e058d2",
   "metadata": {},
   "outputs": [],
   "source": []
  },
  {
   "cell_type": "code",
   "execution_count": 22,
   "id": "e9352f31-50f2-4e8b-bcdc-27e565b987e6",
   "metadata": {},
   "outputs": [
    {
     "ename": "MemoryError",
     "evalue": "Unable to allocate 16.9 GiB for an array with shape (50075, 45227) and data type int64",
     "output_type": "error",
     "traceback": [
      "\u001b[1;31m---------------------------------------------------------------------------\u001b[0m",
      "\u001b[1;31mMemoryError\u001b[0m                               Traceback (most recent call last)",
      "Cell \u001b[1;32mIn[22], line 2\u001b[0m\n\u001b[0;32m      1\u001b[0m model\u001b[38;5;241m=\u001b[39mMultinomialNB()\n\u001b[1;32m----> 2\u001b[0m model\u001b[38;5;241m.\u001b[39mfit(x_train,y_train)\n",
      "File \u001b[1;32mC:\\ProgramData\\anaconda3\\Lib\\site-packages\\sklearn\\base.py:1473\u001b[0m, in \u001b[0;36m_fit_context.<locals>.decorator.<locals>.wrapper\u001b[1;34m(estimator, *args, **kwargs)\u001b[0m\n\u001b[0;32m   1466\u001b[0m     estimator\u001b[38;5;241m.\u001b[39m_validate_params()\n\u001b[0;32m   1468\u001b[0m \u001b[38;5;28;01mwith\u001b[39;00m config_context(\n\u001b[0;32m   1469\u001b[0m     skip_parameter_validation\u001b[38;5;241m=\u001b[39m(\n\u001b[0;32m   1470\u001b[0m         prefer_skip_nested_validation \u001b[38;5;129;01mor\u001b[39;00m global_skip_validation\n\u001b[0;32m   1471\u001b[0m     )\n\u001b[0;32m   1472\u001b[0m ):\n\u001b[1;32m-> 1473\u001b[0m     \u001b[38;5;28;01mreturn\u001b[39;00m fit_method(estimator, \u001b[38;5;241m*\u001b[39margs, \u001b[38;5;241m*\u001b[39m\u001b[38;5;241m*\u001b[39mkwargs)\n",
      "File \u001b[1;32mC:\\ProgramData\\anaconda3\\Lib\\site-packages\\sklearn\\naive_bayes.py:736\u001b[0m, in \u001b[0;36m_BaseDiscreteNB.fit\u001b[1;34m(self, X, y, sample_weight)\u001b[0m\n\u001b[0;32m    733\u001b[0m _, n_features \u001b[38;5;241m=\u001b[39m X\u001b[38;5;241m.\u001b[39mshape\n\u001b[0;32m    735\u001b[0m labelbin \u001b[38;5;241m=\u001b[39m LabelBinarizer()\n\u001b[1;32m--> 736\u001b[0m Y \u001b[38;5;241m=\u001b[39m labelbin\u001b[38;5;241m.\u001b[39mfit_transform(y)\n\u001b[0;32m    737\u001b[0m \u001b[38;5;28mself\u001b[39m\u001b[38;5;241m.\u001b[39mclasses_ \u001b[38;5;241m=\u001b[39m labelbin\u001b[38;5;241m.\u001b[39mclasses_\n\u001b[0;32m    738\u001b[0m \u001b[38;5;28;01mif\u001b[39;00m Y\u001b[38;5;241m.\u001b[39mshape[\u001b[38;5;241m1\u001b[39m] \u001b[38;5;241m==\u001b[39m \u001b[38;5;241m1\u001b[39m:\n",
      "File \u001b[1;32mC:\\ProgramData\\anaconda3\\Lib\\site-packages\\sklearn\\preprocessing\\_label.py:329\u001b[0m, in \u001b[0;36mLabelBinarizer.fit_transform\u001b[1;34m(self, y)\u001b[0m\n\u001b[0;32m    309\u001b[0m \u001b[38;5;28;01mdef\u001b[39;00m \u001b[38;5;21mfit_transform\u001b[39m(\u001b[38;5;28mself\u001b[39m, y):\n\u001b[0;32m    310\u001b[0m \u001b[38;5;250m    \u001b[39m\u001b[38;5;124;03m\"\"\"Fit label binarizer/transform multi-class labels to binary labels.\u001b[39;00m\n\u001b[0;32m    311\u001b[0m \n\u001b[0;32m    312\u001b[0m \u001b[38;5;124;03m    The output of transform is sometimes referred to as\u001b[39;00m\n\u001b[1;32m   (...)\u001b[0m\n\u001b[0;32m    327\u001b[0m \u001b[38;5;124;03m        will be of CSR format.\u001b[39;00m\n\u001b[0;32m    328\u001b[0m \u001b[38;5;124;03m    \"\"\"\u001b[39;00m\n\u001b[1;32m--> 329\u001b[0m     \u001b[38;5;28;01mreturn\u001b[39;00m \u001b[38;5;28mself\u001b[39m\u001b[38;5;241m.\u001b[39mfit(y)\u001b[38;5;241m.\u001b[39mtransform(y)\n",
      "File \u001b[1;32mC:\\ProgramData\\anaconda3\\Lib\\site-packages\\sklearn\\preprocessing\\_label.py:357\u001b[0m, in \u001b[0;36mLabelBinarizer.transform\u001b[1;34m(self, y)\u001b[0m\n\u001b[0;32m    354\u001b[0m \u001b[38;5;28;01mif\u001b[39;00m y_is_multilabel \u001b[38;5;129;01mand\u001b[39;00m \u001b[38;5;129;01mnot\u001b[39;00m \u001b[38;5;28mself\u001b[39m\u001b[38;5;241m.\u001b[39my_type_\u001b[38;5;241m.\u001b[39mstartswith(\u001b[38;5;124m\"\u001b[39m\u001b[38;5;124mmultilabel\u001b[39m\u001b[38;5;124m\"\u001b[39m):\n\u001b[0;32m    355\u001b[0m     \u001b[38;5;28;01mraise\u001b[39;00m \u001b[38;5;167;01mValueError\u001b[39;00m(\u001b[38;5;124m\"\u001b[39m\u001b[38;5;124mThe object was not fitted with multilabel input.\u001b[39m\u001b[38;5;124m\"\u001b[39m)\n\u001b[1;32m--> 357\u001b[0m \u001b[38;5;28;01mreturn\u001b[39;00m label_binarize(\n\u001b[0;32m    358\u001b[0m     y,\n\u001b[0;32m    359\u001b[0m     classes\u001b[38;5;241m=\u001b[39m\u001b[38;5;28mself\u001b[39m\u001b[38;5;241m.\u001b[39mclasses_,\n\u001b[0;32m    360\u001b[0m     pos_label\u001b[38;5;241m=\u001b[39m\u001b[38;5;28mself\u001b[39m\u001b[38;5;241m.\u001b[39mpos_label,\n\u001b[0;32m    361\u001b[0m     neg_label\u001b[38;5;241m=\u001b[39m\u001b[38;5;28mself\u001b[39m\u001b[38;5;241m.\u001b[39mneg_label,\n\u001b[0;32m    362\u001b[0m     sparse_output\u001b[38;5;241m=\u001b[39m\u001b[38;5;28mself\u001b[39m\u001b[38;5;241m.\u001b[39msparse_output,\n\u001b[0;32m    363\u001b[0m )\n",
      "File \u001b[1;32mC:\\ProgramData\\anaconda3\\Lib\\site-packages\\sklearn\\utils\\_param_validation.py:186\u001b[0m, in \u001b[0;36mvalidate_params.<locals>.decorator.<locals>.wrapper\u001b[1;34m(*args, **kwargs)\u001b[0m\n\u001b[0;32m    184\u001b[0m global_skip_validation \u001b[38;5;241m=\u001b[39m get_config()[\u001b[38;5;124m\"\u001b[39m\u001b[38;5;124mskip_parameter_validation\u001b[39m\u001b[38;5;124m\"\u001b[39m]\n\u001b[0;32m    185\u001b[0m \u001b[38;5;28;01mif\u001b[39;00m global_skip_validation:\n\u001b[1;32m--> 186\u001b[0m     \u001b[38;5;28;01mreturn\u001b[39;00m func(\u001b[38;5;241m*\u001b[39margs, \u001b[38;5;241m*\u001b[39m\u001b[38;5;241m*\u001b[39mkwargs)\n\u001b[0;32m    188\u001b[0m func_sig \u001b[38;5;241m=\u001b[39m signature(func)\n\u001b[0;32m    190\u001b[0m \u001b[38;5;66;03m# Map *args/**kwargs to the function signature\u001b[39;00m\n",
      "File \u001b[1;32mC:\\ProgramData\\anaconda3\\Lib\\site-packages\\sklearn\\preprocessing\\_label.py:576\u001b[0m, in \u001b[0;36mlabel_binarize\u001b[1;34m(y, classes, neg_label, pos_label, sparse_output)\u001b[0m\n\u001b[0;32m    571\u001b[0m     \u001b[38;5;28;01mraise\u001b[39;00m \u001b[38;5;167;01mValueError\u001b[39;00m(\n\u001b[0;32m    572\u001b[0m         \u001b[38;5;124m\"\u001b[39m\u001b[38;5;132;01m%s\u001b[39;00m\u001b[38;5;124m target data is not supported with label binarization\u001b[39m\u001b[38;5;124m\"\u001b[39m \u001b[38;5;241m%\u001b[39m y_type\n\u001b[0;32m    573\u001b[0m     )\n\u001b[0;32m    575\u001b[0m \u001b[38;5;28;01mif\u001b[39;00m \u001b[38;5;129;01mnot\u001b[39;00m sparse_output:\n\u001b[1;32m--> 576\u001b[0m     Y \u001b[38;5;241m=\u001b[39m Y\u001b[38;5;241m.\u001b[39mtoarray()\n\u001b[0;32m    577\u001b[0m     Y \u001b[38;5;241m=\u001b[39m Y\u001b[38;5;241m.\u001b[39mastype(\u001b[38;5;28mint\u001b[39m, copy\u001b[38;5;241m=\u001b[39m\u001b[38;5;28;01mFalse\u001b[39;00m)\n\u001b[0;32m    579\u001b[0m     \u001b[38;5;28;01mif\u001b[39;00m neg_label \u001b[38;5;241m!=\u001b[39m \u001b[38;5;241m0\u001b[39m:\n",
      "File \u001b[1;32mC:\\ProgramData\\anaconda3\\Lib\\site-packages\\scipy\\sparse\\_compressed.py:1106\u001b[0m, in \u001b[0;36m_cs_matrix.toarray\u001b[1;34m(self, order, out)\u001b[0m\n\u001b[0;32m   1104\u001b[0m \u001b[38;5;28;01mif\u001b[39;00m out \u001b[38;5;129;01mis\u001b[39;00m \u001b[38;5;28;01mNone\u001b[39;00m \u001b[38;5;129;01mand\u001b[39;00m order \u001b[38;5;129;01mis\u001b[39;00m \u001b[38;5;28;01mNone\u001b[39;00m:\n\u001b[0;32m   1105\u001b[0m     order \u001b[38;5;241m=\u001b[39m \u001b[38;5;28mself\u001b[39m\u001b[38;5;241m.\u001b[39m_swap(\u001b[38;5;124m'\u001b[39m\u001b[38;5;124mcf\u001b[39m\u001b[38;5;124m'\u001b[39m)[\u001b[38;5;241m0\u001b[39m]\n\u001b[1;32m-> 1106\u001b[0m out \u001b[38;5;241m=\u001b[39m \u001b[38;5;28mself\u001b[39m\u001b[38;5;241m.\u001b[39m_process_toarray_args(order, out)\n\u001b[0;32m   1107\u001b[0m \u001b[38;5;28;01mif\u001b[39;00m \u001b[38;5;129;01mnot\u001b[39;00m (out\u001b[38;5;241m.\u001b[39mflags\u001b[38;5;241m.\u001b[39mc_contiguous \u001b[38;5;129;01mor\u001b[39;00m out\u001b[38;5;241m.\u001b[39mflags\u001b[38;5;241m.\u001b[39mf_contiguous):\n\u001b[0;32m   1108\u001b[0m     \u001b[38;5;28;01mraise\u001b[39;00m \u001b[38;5;167;01mValueError\u001b[39;00m(\u001b[38;5;124m'\u001b[39m\u001b[38;5;124mOutput array must be C or F contiguous\u001b[39m\u001b[38;5;124m'\u001b[39m)\n",
      "File \u001b[1;32mC:\\ProgramData\\anaconda3\\Lib\\site-packages\\scipy\\sparse\\_base.py:1327\u001b[0m, in \u001b[0;36m_spbase._process_toarray_args\u001b[1;34m(self, order, out)\u001b[0m\n\u001b[0;32m   1325\u001b[0m     \u001b[38;5;28;01mreturn\u001b[39;00m out\n\u001b[0;32m   1326\u001b[0m \u001b[38;5;28;01melse\u001b[39;00m:\n\u001b[1;32m-> 1327\u001b[0m     \u001b[38;5;28;01mreturn\u001b[39;00m np\u001b[38;5;241m.\u001b[39mzeros(\u001b[38;5;28mself\u001b[39m\u001b[38;5;241m.\u001b[39mshape, dtype\u001b[38;5;241m=\u001b[39m\u001b[38;5;28mself\u001b[39m\u001b[38;5;241m.\u001b[39mdtype, order\u001b[38;5;241m=\u001b[39morder)\n",
      "\u001b[1;31mMemoryError\u001b[0m: Unable to allocate 16.9 GiB for an array with shape (50075, 45227) and data type int64"
     ]
    }
   ],
   "source": [
    "model=MultinomialNB()\n",
    "model.fit(x_train,y_train)"
   ]
  },
  {
   "cell_type": "code",
   "execution_count": null,
   "id": "37088f21-b5e0-43e5-b7a4-469b27c9e170",
   "metadata": {},
   "outputs": [],
   "source": [
    "y_pred=model.predict(x_test)"
   ]
  },
  {
   "cell_type": "code",
   "execution_count": null,
   "id": "840105f6-9f46-4e4e-b906-5fdf0339551e",
   "metadata": {},
   "outputs": [],
   "source": [
    "from sklearn.metrics import accuracy_score\n",
    "print(accuracy_score(y_test,y_pred))"
   ]
  },
  {
   "cell_type": "code",
   "execution_count": null,
   "id": "da0f408b-f5ea-420f-87cd-e1d209961f60",
   "metadata": {},
   "outputs": [],
   "source": []
  }
 ],
 "metadata": {
  "kernelspec": {
   "display_name": "Python 3 (ipykernel)",
   "language": "python",
   "name": "python3"
  },
  "language_info": {
   "codemirror_mode": {
    "name": "ipython",
    "version": 3
   },
   "file_extension": ".py",
   "mimetype": "text/x-python",
   "name": "python",
   "nbconvert_exporter": "python",
   "pygments_lexer": "ipython3",
   "version": "3.12.7"
  }
 },
 "nbformat": 4,
 "nbformat_minor": 5
}
